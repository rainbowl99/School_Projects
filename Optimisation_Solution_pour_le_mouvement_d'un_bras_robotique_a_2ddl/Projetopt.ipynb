{
 "cells": [
  {
   "cell_type": "code",
   "execution_count": null,
   "id": "709b9fbe",
   "metadata": {},
   "outputs": [],
   "source": [
    "import math\n",
    "import numpy as np\n",
    "from numpy import cos, sin, arccos, arctan2, sqrt\n",
    "import matplotlib.pyplot as plt\n",
    "from IPython.display import display, clear_output\n",
    "from scipy.optimize import root\n",
    "from scipy.optimize import minimize"
   ]
  },
  {
   "cell_type": "code",
   "execution_count": null,
   "id": "b9b7919e",
   "metadata": {},
   "outputs": [],
   "source": [
    "class ProjetOpt:\n",
    "  \n",
    "    def __init__(self):\n",
    "        #Les configurations initiales des deux joints.\n",
    "        self.angles_ini = [0, 0]\n",
    "        #Longueur des deux bras L0 et L1.\n",
    "        self.bras_longueur = [0.5,0.5]\n",
    "        self.l0 = self.bras_longueur[0]\n",
    "        self.l1 = self.bras_longueur[1]\n",
    "        self.angles = self.joint1 = self.joint2 = [0,0]\n",
    "        \n",
    "    def direct(self):\n",
    "        q0 = self.angles[0] \n",
    "        q1 = self.angles[1]\n",
    "        l0 = self.bras_longueur[0]\n",
    "        l1 = self.bras_longueur[1]\n",
    "        self.joint1 = [l0 * cos(q0), l0 * sin(q0)]\n",
    "        self.joint2 = [l0 * cos(q0) + l1 * cos(q0 + q1), l0 * sin(q0) + l1 * sin(q0 + q1)]\n",
    "        \n",
    "        \n",
    "    def plot(self):   \n",
    "        plt.cla()    \n",
    "        plt.xlim(-2, 2)\n",
    "        plt.ylim(-2, 2)       \n",
    "        #Les positions des trois joints.\n",
    "        x = [self.angles_ini[0], self.joint1[0], self.joint2[0]]\n",
    "        y = [self.angles_ini[1], self.joint1[1], self.joint2[1]]\n",
    "\n",
    "        plt.plot(x, y, c=\"red\", zorder=1)\n",
    "      \n",
    "        plt.scatter(x, y, c=\"black\", zorder=2)\n",
    "     \n",
    "        global goal\n",
    "        plt.scatter(goal[0],goal[1],c='blue',marker='*')\n",
    "        \n",
    "        \n",
    "    def solutionexist(self,goal):\n",
    "        theta = self.methode1_root(goal)\n",
    "        def residu(X,goal):\n",
    "            res = [self.l0 * cos(X[0]) + self.l1 * cos(X[0] + X[1]) - goal[0],\n",
    "                    self.l0 * sin(X[0]) + self.l1 * sin(X[0] + X[1]) - goal[1]]\n",
    "            return sqrt(res[0]**2 + res[1]**2)\n",
    "        \n",
    "        valeur = residu(theta,goal)\n",
    "        if valeur < 1e-3:\n",
    "            vef = True\n",
    "        else:\n",
    "            vef = False\n",
    "        print(f'Le point {goal} est atteignable : ', vef)\n",
    "    \n",
    "    \n",
    "\n",
    "    \n",
    "\n",
    "    \n",
    "    \"\"\"\n",
    "    ------------------------------------méthode1-------------------------------------------\n",
    "    \"\"\"\n",
    "    def m_root(self,goal):\n",
    "      #Echantillion N points pour tracer la trajectoire\n",
    "        N = 10            \n",
    "        duration_time_seconds = 1\n",
    "        plt.ion() \n",
    "        goal_e = 0\n",
    "        for i in range(0,N+1):\n",
    "            goal_e = [goal[0] + (self.l0 + self.l1 - goal[0]) * (1 - i/N), goal[1] * i/N]\n",
    "            self.angles = self.methode1_root(goal_e)\n",
    "            #print('solution de theta pour i = ',i, ' est ',self.angles)\n",
    "            self.direct()\n",
    "            self.plot()\n",
    "            clear_output(wait=True)\n",
    "            dt = duration_time_seconds/N\n",
    "            plt.pause(dt)\n",
    "\n",
    "\n",
    "    \n",
    "    \n",
    "    def methode1_root(self,goal):\n",
    "        l0 = self.bras_longueur[0]\n",
    "        l1 = self.bras_longueur[1]\n",
    "        param = [goal,self.l0,self.l1]\n",
    "        def residu(X,param):\n",
    "            return [l0 * cos(X[0]) + l1 * cos(X[0] + X[1]) - goal[0],\n",
    "                    l0 * sin(X[0]) + l1 * sin(X[0] + X[1]) - goal[1]]\n",
    "        solution = root(residu, [1, 1], param, method='hybr')\n",
    "        theta = solution.x % (2 * math.pi)\n",
    "        return theta\n",
    "    \n",
    "    \n",
    "    \"\"\"\n",
    "    ------------------------------------méthode2-------------------------------------------\n",
    "    \"\"\"\n",
    "    def m_minimize(self,goal,X0):\n",
    "        #Echantillion N points pour tracer la trajectoire\n",
    "        N = 10            \n",
    "        duration_time_seconds = 1\n",
    "        plt.ion() \n",
    "        goal_e = 0\n",
    "        for i in range(0,N+1):\n",
    "            goal_e = [goal[0] + (self.l0 + self.l1 - goal[0]) * (1 - i/N), goal[1] * i/N]\n",
    "            self.angles = self.methode2_minimize(goal_e,X0)\n",
    "            #print('solution de theta pour i = ',i, ' est ',self.angles)\n",
    "            self.direct()\n",
    "            self.plot()\n",
    "            clear_output(wait=True)\n",
    "            dt = duration_time_seconds/N\n",
    "            plt.pause(dt)\n",
    "         \n",
    "        \n",
    "\n",
    "\n",
    "     \n",
    "     \n",
    "    def methode2_minimize(self,goal,X0):\n",
    "        l0 = self.bras_longueur[0]\n",
    "        l1 = self.bras_longueur[1]\n",
    "        param = [goal,self.l0,self.l1]\n",
    "        def residu(X,param):\n",
    "            res = [l0 * cos(X[0]) + l1 * cos(X[0] + X[1]) - goal[0],\n",
    "                    l0 * sin(X[0]) + l1 * sin(X[0] + X[1]) - goal[1]]\n",
    "            return np.linalg.norm(res)\n",
    "        solution = minimize(residu, X0, param,method='BFGS')\n",
    "        theta = solution.x % (2 * math.pi)\n",
    "        return theta\n",
    "    \n",
    "    \n",
    "    \"\"\"\n",
    "    ------------------------------------méthode3-------------------------------------------\n",
    "    \"\"\"\n",
    "    \n",
    "    def m_gradient(self,goal,X0,nmax,alpha):\n",
    "        def residu(X,goal):\n",
    "            res = [self.l0 * cos(X[0]) + self.l1 * cos(X[0] + X[1]) - goal[0],\n",
    "                    self.l0 * sin(X[0]) + self.l1 * sin(X[0] + X[1]) - goal[1]]\n",
    "            return sqrt(res[0]**2 + res[1]**2)\n",
    "        #Echantillion N points pour tracer la trajectoirel0 = self.bras_longueur[0]        \n",
    "        N = 10            \n",
    "        duration_time_seconds = 1\n",
    "        plt.ion() \n",
    "        goal_e = 0\n",
    "        calcul =[] \n",
    "        for i in range(0,N+1):\n",
    "            goal_e = [goal[0] + (self.l0 + self.l1 - goal[0]) * (1 - i/N), goal[1] * i/N]\n",
    "            self.angles, contenu, x_list, y_list = self.methode3_gradient(goal_e,X0,nmax,alpha)\n",
    "            calcul.append(contenu)\n",
    "            self.direct()\n",
    "            self.plot()\n",
    "            clear_output(wait=True)\n",
    "            dt = duration_time_seconds/N\n",
    "            plt.pause(dt)\n",
    "        \n",
    "        \n",
    "        \n",
    "        \n",
    "        #Tracer les figures des isovaleurs\n",
    "        for i in range(0,N+1):\n",
    "            contenu = calcul[i]\n",
    "            goal_e = [goal[0] + (self.l0 + self.l1 - goal[0]) * (1 - i/N), goal[1] * i/N]\n",
    "            self.angles, contenu, x_list, y_list = self.methode3_gradient(goal_e,X0,nmax,alpha)\n",
    "            \n",
    "            #Print les informations obtenu a chaque point sur la trajectoire\n",
    "            print(f\"Pour le point N = {i}:\")\n",
    "            for j in range(len(contenu)):    \n",
    "                print(contenu[j])\n",
    "            \n",
    "            \n",
    "            \n",
    "            # affichage :           \n",
    "            plt.figure(i+1)\n",
    "            xmin, xmax, nx = -7, 7, 50\n",
    "            ymin, ymax, ny = -7, 7, 50\n",
    "\n",
    "            # Discrétisation du domaine de tracé\n",
    "            x1d = np.linspace(xmin,xmax,nx)\n",
    "            y1d = np.linspace(ymin,ymax,ny)\n",
    "            x2d,y2d = np.meshgrid(x1d, y1d)\n",
    "           \n",
    "            nIso = 10\n",
    "            plt.contour(x2d,y2d,residu([x2d,y2d],goal),nIso, cmap = 'rainbow')\n",
    "            for k in range(len(x_list)) :\n",
    "                plt.plot(x_list[k], y_list[k], 'bs')\n",
    "            for p in range(len(x_list)-1) :\n",
    "                plt.plot([x_list[p],x_list[p+1]] , [y_list[p],y_list[p+1]] ,'y' , label = 'segment' )\n",
    "            plt.title(f\"Isovaleurs Pour N = {i}\")\n",
    "            plt.xlabel('Valeurs de x')\n",
    "            plt.ylabel('Valeurs de y')\n",
    "            plt.grid()\n",
    "            \n",
    "\n",
    "            \n",
    "    def methode3_gradient(self,goal,X0,nmax,alpha):\n",
    "        l0 = self.bras_longueur[0]\n",
    "        l1 = self.bras_longueur[1]\n",
    "        param = [goal,self.l0,self.l1]\n",
    "        def residu(X,param):\n",
    "            res = [l0 * cos(X[0]) + l1 * cos(X[0] + X[1]) - goal[0],\n",
    "                    l0 * sin(X[0]) + l1 * sin(X[0] + X[1]) - goal[1]]\n",
    "            return np.linalg.norm(res)\n",
    "        \n",
    "        def gradient_J(X,param):\n",
    "            return np.array([(-2*l0*sin(X[0]) - 2*l1*sin(X[0] + X[1]))*(l0*cos(X[0]) + l1*cos(X[0] + X[1]) - goal[0]) + (2*l0*cos(X[0]) + 2*l1*cos(X[0] + X[1]))*(l0*sin(X[0]) + l1*sin(X[0] + X[1]) - goal[1]), \n",
    "                             2*l1*(l0*sin(X[0]) + l1*sin(X[0] + X[1]) - goal[1])*cos(X[0] + X[1]) - 2*l1*(l0*cos(X[0]) + l1*cos(X[0] + X[1]) - goal[0])*sin(X[0] + X[1])])\n",
    "    \n",
    "        \n",
    "        #Iteration commence\n",
    "        eps = 1e-2\n",
    "        Xn = X0\n",
    "        dX = 1\n",
    "        dX1 = 1\n",
    "        n = 0 \n",
    "        alpha1 = alpha\n",
    "        #list enregistre de positions\n",
    "        x_list = [X0[0]]\n",
    "        y_list = [X0[1]]\n",
    "        contenu = []\n",
    "        while (dX > eps) and (n < nmax):\n",
    "            Xn1 = Xn - alpha * gradient_J(Xn,param)\n",
    "            dX = np.linalg.norm(Xn1 - Xn)\n",
    "            Xn = Xn1\n",
    "            n += 1\n",
    "            contenu.append(f\"Iteration {n}: alpha = {alpha}, dX = {dX}\")\n",
    "            x_list.append(Xn[0])\n",
    "            y_list.append(Xn[1])\n",
    "            #La valeur de alpha\n",
    "            if (dX1 < dX):\n",
    "                alpha = alpha/2\n",
    "            else:\n",
    "                alpha = alpha1    \n",
    "            dX1 = dX\n",
    "         \n",
    "        contenu.append(f\"Minimum trouve apres {n} iterations\")\n",
    "        contenu.append(f\"Angles du minimum : {Xn}\")\n",
    "        if dX < eps:\n",
    "            contenu.append('Converge')\n",
    "        else:\n",
    "            contenu.append('Diverge')\n",
    "            \n",
    "        return Xn, contenu, x_list, y_list\n",
    "    \n",
    "    \n",
    "    \"\"\"\n",
    "    ------------------------------------méthode4-------------------------------------------\n",
    "    \"\"\"\n",
    "    \n",
    "    \n",
    "    def m_newton(self,goal,X0):\n",
    "        def residu(X,goal):\n",
    "            res = [self.l0 * cos(X[0]) + self.l1 * cos(X[0] + X[1]) - goal[0],\n",
    "                    self.l0 * sin(X[0]) + self.l1 * sin(X[0] + X[1]) - goal[1]]\n",
    "            return sqrt(res[0]**2 + res[1]**2)\n",
    "        #Echantillion N points pour tracer la trajectoire\n",
    "        N = 10            \n",
    "        duration_time_seconds = 1\n",
    "        plt.ion() \n",
    "        goal_e = 0\n",
    "        for i in range(0,N+1):\n",
    "            goal_e = [goal[0] + (self.l0 + self.l1 - goal[0]) * (1 - i/N), goal[1] * i/N]\n",
    "            self.angles,x_list,y_list = self.methode4_newton(goal_e,X0)\n",
    "            self.direct()\n",
    "            self.plot()\n",
    "            clear_output(wait=True)\n",
    "            dt = duration_time_seconds/N\n",
    "            plt.pause(dt)\n",
    "         \n",
    "        #Tracer les figures des isovaleurs\n",
    "        for i in range(0,N+1):\n",
    "            goal_e = [goal[0] + (self.l0 + self.l1 - goal[0]) * (1 - i/N), goal[1] * i/N]\n",
    "            self.angles,x_list,y_list = self.methode4_newton(goal_e,X0)\n",
    "            plt.figure(i+1)\n",
    "            xmin, xmax, nx = -10, 10, 50\n",
    "            ymin, ymax, ny = -10, 10, 50\n",
    "    \n",
    "            # Discrétisation du domaine de tracé\n",
    "            x1d = np.linspace(xmin,xmax,nx)\n",
    "            y1d = np.linspace(ymin,ymax,ny)\n",
    "            x2d,y2d = np.meshgrid(x1d, y1d)\n",
    "           \n",
    "            nIso = 10\n",
    "            plt.contour(x2d,y2d,residu([x2d,y2d],goal),nIso, cmap = 'rainbow')\n",
    "            plt.title(f\"Isovaleurs Pour N = {i}\")\n",
    "            plt.xlabel('Valeurs de x')\n",
    "            plt.ylabel('Valeurs de y')\n",
    "            plt.grid()    \n",
    "            for k in range(len(x_list)) :\n",
    "                plt.plot(x_list[k], y_list[k], 'bs')\n",
    "            for p in range(len(x_list)-1) :\n",
    "                plt.plot([x_list[p],x_list[p+1]] , [y_list[p],y_list[p+1]] ,'y' , label = 'segment' )\n",
    "    \n",
    "    \n",
    "    \n",
    "    def methode4_newton(self,goal,X0):\n",
    "        l0 = self.bras_longueur[0]\n",
    "        l1 = self.bras_longueur[1]\n",
    "        param = [goal,self.l0,self.l1]\n",
    "        \n",
    "        \n",
    "        #calcule de gradient de J\n",
    "        def gradient_J(X,param):\n",
    "            return np.array([(-2*l0*sin(X[0]) - 2*l1*sin(X[0] + X[1]))*(l0*cos(X[0]) + l1*cos(X[0] + X[1]) - goal[0]) + (2*l0*cos(X[0]) + 2*l1*cos(X[0] + X[1]))*(l0*sin(X[0]) + l1*sin(X[0] + X[1]) - goal[1]), \n",
    "                             2*l1*(l0*sin(X[0]) + l1*sin(X[0] + X[1]) - goal[1])*cos(X[0] + X[1]) - 2*l1*(l0*cos(X[0]) + l1*cos(X[0] + X[1]) - goal[0])*sin(X[0] + X[1])])\n",
    "        #clacule de Hessien de J\n",
    "        def hessien_J(X,paran):\n",
    "               return np.array([[(-2*l0*sin(X[0]) - 2*l1*sin(X[0] + X[1]))*(-l0*sin(X[0]) - l0*sin(X[0] + X[1])) + (-2*l0*sin(X[0]) - 2*l1*sin(X[0] + X[1]))*(l0*sin(X[0]) + l1*sin(X[0] + X[1]) - goal[1]) + (-2*l0*cos(X[0]) - 2*l1*cos(X[0] + X[1]))*(l0*cos(X[0]) + l1*cos(X[0] + X[1]) - goal[0]) + (l0*cos(X[0]) + l1*cos(X[0] + X[1]))*(2*l0*cos(X[0]) + 2*l1*cos(X[0] + X[1])), -l1*(-2*l0*sin(X[0]) - 2*l0*sin(X[0] + X[1]))*sin(X[0] + X[1]) + l1*(2*l0*cos(X[0]) + 2*l0*cos(X[0]+ X[1]))*cos(X[0] + X[1]) - 2*l1*(l0*sin(X[0]) + l1*sin(X[0] + X[1]) - goal[1])*sin(X[0] + X[1]) - 2*l1*(l0*cos(X[0]) + l1*cos(X[0] + X[1]) - goal[0])*cos(X[0] + X[1])], \n",
    "                             [-2*l1*(-l0*sin(X[0]) - l1*sin(X[0] + X[1]))*sin(X[0] + X[1]) + 2*l1*(l0*cos(X[0]) + l1*cos(X[0] + X[1]))*cos(X[0] + X[1]) - 2*l1*(l0*sin(X[0]) + l1*sin(X[0] + X[1]) - goal[1])*sin(X[0]+ X[1]) - 2*l0*(l0*cos(X[0]) + l1*cos(X[0] + X[1]) - goal[0])*cos(X[0] + X[1]), 2*l1**2*sin(X[0] + X[1])**2 + 2*l1**2*cos(X[0] + X[1])**2 - 2*l1*(l0*sin(X[0]) + l0*sin(X[0] + X[1]) - goal[1])*sin(X[0] + X[1]) - 2*l1*(l0*cos(X[0]) + l1*cos(X[0] + X[1]) - goal[0])*cos(X[0] + X[1])]])\n",
    "        \n",
    "        #Iteration commence\n",
    "        x_n = X0\n",
    "        eps = 1e-10\n",
    "        n_max = 50000\n",
    "        dx = 1\n",
    "        n = 0\n",
    "        \n",
    "        #list enregistre de angles: x_list pour theta0 et y_list pour theta1\n",
    "        x_list = [X0[0]]\n",
    "        y_list = [X0[1]]\n",
    "        \n",
    "        while dx > eps and n < n_max:\n",
    "            J = gradient_J(x_n,param)\n",
    "            H = hessien_J(x_n,param)\n",
    "            delta_x = -np.dot(np.linalg.inv(H),J)\n",
    "            x_n = x_n + delta_x\n",
    "            dx = np.linalg.norm(delta_x)\n",
    "            n += 1\n",
    "            x_list.append(x_n[0])\n",
    "            y_list.append(x_n[1])\n",
    "    \n",
    "        return x_n,x_list,y_list"
   ]
  },
  {
   "cell_type": "code",
   "execution_count": null,
   "id": "41ad795e",
   "metadata": {},
   "outputs": [],
   "source": [
    "\"\"\"\n",
    "-------------------------test--------------------------- \n",
    "\"\"\"\n",
    "#Les points desires enregestres et a choisir, vous pouvez juste changer le chiffre dans la list goals:\n",
    "#ex.:  goal = goals[0], goal = goals[1]. \n",
    "#Ne changez et remplacez pas le nom de point desire \"goal\":\n",
    "#ex.:  a = goals[0], ca ne marche pas\n",
    "goals = [[0.55,0.4],[-0.5,0.4]]\n",
    "\n",
    "#Fonctionner la classe\n",
    "result = ProjetOpt()\n",
    "for goal in goals:\n",
    "    result.solutionexist(goal)"
   ]
  },
  {
   "cell_type": "markdown",
   "id": "15cb86d3",
   "metadata": {},
   "source": [
    "# Methode1_root test"
   ]
  },
  {
   "cell_type": "markdown",
   "id": "8d39cbb2",
   "metadata": {},
   "source": [
    "***Test goal1***"
   ]
  },
  {
   "cell_type": "code",
   "execution_count": null,
   "id": "737cbb8d",
   "metadata": {},
   "outputs": [],
   "source": [
    "goal = goals[0] \n",
    "result.m_root(goal)"
   ]
  },
  {
   "cell_type": "markdown",
   "id": "d716c749",
   "metadata": {},
   "source": [
    "***Test goal2***"
   ]
  },
  {
   "cell_type": "code",
   "execution_count": null,
   "id": "8e98901a",
   "metadata": {},
   "outputs": [],
   "source": [
    "goal = goals[1] \n",
    "result.m_root(goal)"
   ]
  },
  {
   "cell_type": "markdown",
   "id": "a2298970",
   "metadata": {},
   "source": [
    "# Methode2_minimize test"
   ]
  },
  {
   "cell_type": "markdown",
   "id": "cfb7d67c",
   "metadata": {},
   "source": [
    "***Test goal1***"
   ]
  },
  {
   "cell_type": "code",
   "execution_count": null,
   "id": "34d2b790",
   "metadata": {},
   "outputs": [],
   "source": [
    "goal = goals[0] \n",
    "X0 = [1,1]\n",
    "result.m_minimize(goal,X0)"
   ]
  },
  {
   "cell_type": "markdown",
   "id": "f530c046",
   "metadata": {},
   "source": [
    "***Test goal2***"
   ]
  },
  {
   "cell_type": "code",
   "execution_count": null,
   "id": "c5a66a58",
   "metadata": {},
   "outputs": [],
   "source": [
    "goal = goals[1] \n",
    "X0 = [1,1]\n",
    "result.m_minimize(goal,X0)"
   ]
  },
  {
   "cell_type": "markdown",
   "id": "0dfd6657",
   "metadata": {},
   "source": [
    "# Methode3_gradient test"
   ]
  },
  {
   "cell_type": "markdown",
   "id": "5adf58e4",
   "metadata": {},
   "source": [
    "***Test goal1***"
   ]
  },
  {
   "cell_type": "code",
   "execution_count": null,
   "id": "4b754b87",
   "metadata": {
    "scrolled": true
   },
   "outputs": [],
   "source": [
    "goal = goals[0] \n",
    "X0 = [1,1]\n",
    "nmax = 5000\n",
    "alpha = 1\n",
    "result.m_gradient(goal,X0,nmax,alpha)"
   ]
  },
  {
   "cell_type": "markdown",
   "id": "847c84b7",
   "metadata": {},
   "source": [
    "***Test goal2***"
   ]
  },
  {
   "cell_type": "code",
   "execution_count": null,
   "id": "5613c70b",
   "metadata": {},
   "outputs": [],
   "source": [
    "goal = goals[1] \n",
    "X0 = [1,1]\n",
    "nmax = 5000\n",
    "alpha = 1\n",
    "result.m_gradient(goal,X0,nmax,alpha)"
   ]
  },
  {
   "cell_type": "markdown",
   "id": "4f6ec575",
   "metadata": {},
   "source": [
    "# Methode4_newton test"
   ]
  },
  {
   "cell_type": "markdown",
   "id": "a76d5504",
   "metadata": {},
   "source": [
    "***Test goal1***"
   ]
  },
  {
   "cell_type": "code",
   "execution_count": null,
   "id": "4d194d26",
   "metadata": {
    "scrolled": true
   },
   "outputs": [],
   "source": [
    "goal = goals[0] \n",
    "X0 = [1,1]\n",
    "result.m_newton(goal,X0)"
   ]
  },
  {
   "cell_type": "markdown",
   "id": "929a2337",
   "metadata": {},
   "source": [
    "***Test goal2***"
   ]
  },
  {
   "cell_type": "code",
   "execution_count": null,
   "id": "2df43d7d",
   "metadata": {
    "scrolled": true
   },
   "outputs": [],
   "source": [
    "goal = goals[1] \n",
    "X0 = [1,1]\n",
    "result.m_newton(goal,X0)"
   ]
  },
  {
   "cell_type": "markdown",
   "id": "8b93ae83",
   "metadata": {},
   "source": [
    "## Importance du pas de la méthode du gradient "
   ]
  },
  {
   "cell_type": "markdown",
   "id": "e9a05485",
   "metadata": {},
   "source": [
    "+ Lorsque la valeur de pas est grande, nous n'obtiendrons pas la solution optimale, car nous pouvons observer que le point d'itération oscillera autour de la solution optimale ; et lorsque la valeur de pas est petite, nous obtiendrons certainement la solution optimale, mais il augmentera considérablement la quantité de calcul. Il est donc nécessaire de modifier manuellement la valeur de pas pour obtenir un résultat de calcul approprié."
   ]
  },
  {
   "cell_type": "markdown",
   "id": "28e385b9",
   "metadata": {},
   "source": [
    "## Importance du point de départ de la méthode de Newton"
   ]
  },
  {
   "cell_type": "markdown",
   "id": "b35ef027",
   "metadata": {},
   "source": [
    "+ Notre angle de point initial est (0, 0)(La position initiale d'effecteur est (L1+L2,0), dans cet exmple est (1,0)) et notre point cible est (x,y) = (0,55, 0,4).\n",
    "\n",
    "+ Pour obtenir des résultats plus précis, nous choisissons X0(1, 1) comme valeur d'angle initiale de l'itération, mais en exécutant le programme, nous observons qu'aux cinq premiers points de la trajectoire, nous obtenons une solution inappropriée. En examinant les tracés de l'isovaleur pour chaque point passé sur la trajectoire, nous constatons qu'il existe de nombreux extrêmes locaux dans les tracés de l'isovaleur, et en examinant les cinq premiers tracés, nous constatons que les solutions que nous obtenons est approché à d'autres extrêmes que ceux que nous souhaitons. Nous considérons donc qu'il n'est pas approprié d'utiliser la méthode de Newton lorsque la distance entre le point de départ et le point cible est trop grande. Nous devrions donc choisir un point proche du point de valeur extrême désiré comme point de départ de l'itération."
   ]
  },
  {
   "cell_type": "markdown",
   "id": "db88ef85",
   "metadata": {},
   "source": [
    "## Existence de solutions non uniques "
   ]
  },
  {
   "cell_type": "markdown",
   "id": "c7f6c9da",
   "metadata": {},
   "source": [
    "+ Pour le point où il y a une solution, on peut juger en observant l'image obtenue. Lorsque le point effecteur terminal est sur le cercle avec l1+l2 comme r, il n'y a qu'une seule solution. En se déplaçant dans ce cercle, il y aura deux solutions."
   ]
  },
  {
   "cell_type": "code",
   "execution_count": null,
   "id": "24d282a3",
   "metadata": {},
   "outputs": [],
   "source": []
  }
 ],
 "metadata": {
  "kernelspec": {
   "display_name": "Python 3 (ipykernel)",
   "language": "python",
   "name": "python3"
  },
  "language_info": {
   "codemirror_mode": {
    "name": "ipython",
    "version": 3
   },
   "file_extension": ".py",
   "mimetype": "text/x-python",
   "name": "python",
   "nbconvert_exporter": "python",
   "pygments_lexer": "ipython3",
   "version": "3.9.12"
  }
 },
 "nbformat": 4,
 "nbformat_minor": 5
}
